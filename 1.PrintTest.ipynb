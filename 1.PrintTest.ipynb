{
 "cells": [
  {
   "cell_type": "code",
   "execution_count": 9,
   "id": "52fdb0f9-efba-4da5-8a36-ef7d4c496fed",
   "metadata": {},
   "outputs": [
    {
     "name": "stdout",
     "output_type": "stream",
     "text": [
      "Hello Artificial Intelligence\n"
     ]
    }
   ],
   "source": [
    "print('Hello Artificial Intelligence')"
   ]
  },
  {
   "cell_type": "raw",
   "id": "8e88370f-f05c-4f4f-afa7-db876a36dd17",
   "metadata": {},
   "source": []
  },
  {
   "cell_type": "code",
   "execution_count": 11,
   "id": "82052a6e-ec86-41eb-9e7d-631abc9b10f7",
   "metadata": {},
   "outputs": [
    {
     "name": "stdout",
     "output_type": "stream",
     "text": [
      "Artificial Intelligence\n"
     ]
    }
   ],
   "source": [
    "print('Artificial Intelligence')"
   ]
  },
  {
   "cell_type": "code",
   "execution_count": null,
   "id": "5d1ed9c9-9f3a-46b2-a749-c97c2e31d523",
   "metadata": {},
   "outputs": [],
   "source": []
  }
 ],
 "metadata": {
  "kernelspec": {
   "display_name": "Python 3 (ipykernel)",
   "language": "python",
   "name": "python3"
  },
  "language_info": {
   "codemirror_mode": {
    "name": "ipython",
    "version": 3
   },
   "file_extension": ".py",
   "mimetype": "text/x-python",
   "name": "python",
   "nbconvert_exporter": "python",
   "pygments_lexer": "ipython3",
   "version": "3.12.4"
  }
 },
 "nbformat": 4,
 "nbformat_minor": 5
}
