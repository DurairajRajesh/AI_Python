{
 "cells": [
  {
   "cell_type": "code",
   "execution_count": 3,
   "id": "bcd69831-1327-4455-8e27-b217a0d96703",
   "metadata": {},
   "outputs": [
    {
     "name": "stdout",
     "output_type": "stream",
     "text": [
      "Total Marks= 179\n"
     ]
    }
   ],
   "source": [
    "#Variable Demo\n",
    "Math_Marks=90\n",
    "Physics_Marks=89\n",
    "Total_Marks = Math_Marks + Physics_Marks\n",
    "print (\"Total Marks=\",Total_Marks)\n"
   ]
  },
  {
   "cell_type": "code",
   "execution_count": 7,
   "id": "18a29ccb-ffbb-4ef0-b0e6-8806c0c0d4d0",
   "metadata": {},
   "outputs": [
    {
     "name": "stdin",
     "output_type": "stream",
     "text": [
      " 45\n",
      " 46\n"
     ]
    },
    {
     "name": "stdout",
     "output_type": "stream",
     "text": [
      "91\n"
     ]
    }
   ],
   "source": [
    "#Input\n",
    "age = int(input())\n",
    "weight = int(input())\n",
    "print(age+weight)"
   ]
  },
  {
   "cell_type": "code",
   "execution_count": 13,
   "id": "b997a4e6-308d-427c-ab4e-836f8d5f48e8",
   "metadata": {},
   "outputs": [
    {
     "name": "stdin",
     "output_type": "stream",
     "text": [
      " 12\n"
     ]
    },
    {
     "name": "stdout",
     "output_type": "stream",
     "text": [
      "Child\n"
     ]
    }
   ],
   "source": [
    "age = int(input())\n",
    "if (age<18):\n",
    "    print (\"Child\")\n",
    "else:\n",
    "    print (\"Adult\")"
   ]
  },
  {
   "cell_type": "code",
   "execution_count": 31,
   "id": "430211aa-2ef8-4f26-bd34-fefcd319e197",
   "metadata": {},
   "outputs": [
    {
     "name": "stdin",
     "output_type": "stream",
     "text": [
      " 119\n"
     ]
    },
    {
     "name": "stdout",
     "output_type": "stream",
     "text": [
      "Senior Citizen\n"
     ]
    }
   ],
   "source": [
    "age = int(input())\n",
    "if (age<18):\n",
    "    print (\"Child\")\n",
    "elif (age<35):\n",
    "    print (\"Adult\")\n",
    "elif (age<=59):\n",
    "    print (\"Citizen\")\n",
    "elif (age>59 & age<120):\n",
    "    print (\"Senior Citizen\")\n",
    "else:\n",
    "    print (\"Enter the correct age\")"
   ]
  },
  {
   "cell_type": "code",
   "execution_count": null,
   "id": "ab768741-1c3e-48bd-a4f0-c64c8c92508d",
   "metadata": {},
   "outputs": [],
   "source": []
  }
 ],
 "metadata": {
  "kernelspec": {
   "display_name": "Python 3 (ipykernel)",
   "language": "python",
   "name": "python3"
  },
  "language_info": {
   "codemirror_mode": {
    "name": "ipython",
    "version": 3
   },
   "file_extension": ".py",
   "mimetype": "text/x-python",
   "name": "python",
   "nbconvert_exporter": "python",
   "pygments_lexer": "ipython3",
   "version": "3.12.4"
  }
 },
 "nbformat": 4,
 "nbformat_minor": 5
}
