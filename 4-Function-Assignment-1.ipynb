{
 "cells": [
  {
   "cell_type": "code",
   "execution_count": 77,
   "id": "58ac040e-7f91-4fbb-a412-f3aecb4ef232",
   "metadata": {},
   "outputs": [],
   "source": [
    "def Subfields():\n",
    "    print (\"Sub-fields in AI are:\")\n",
    "    subfields = [\"Machine Learning\", \"Neural Networks\", \"Vision Robotics\", \"Speech Processing\", \"Natural Language Processing\"]\n",
    "    for fields in subfields:\n",
    "        print (fields)"
   ]
  },
  {
   "cell_type": "code",
   "execution_count": 79,
   "id": "246c6b82-d304-4db4-bf65-3aaf9375f2f2",
   "metadata": {},
   "outputs": [
    {
     "name": "stdout",
     "output_type": "stream",
     "text": [
      "Sub-fields in AI are:\n",
      "Machine Learning\n",
      "Neural Networks\n",
      "Vision Robotics\n",
      "Speech Processing\n",
      "Natural Language Processing\n"
     ]
    }
   ],
   "source": [
    "Subfields()"
   ]
  },
  {
   "cell_type": "code",
   "execution_count": 109,
   "id": "de067395-8072-43de-bf85-649ecd83ba9b",
   "metadata": {},
   "outputs": [],
   "source": [
    "def OddEven():\n",
    "    num = int(input(\"Enter a number:\"))\n",
    "    if num%2 == 0:\n",
    "        value = \"It is a Even number\"\n",
    "    else:\n",
    "        value = \"It is an Odd number\"\n",
    "    print(value)\n",
    "    return value"
   ]
  },
  {
   "cell_type": "code",
   "execution_count": 111,
   "id": "c1965669-b07d-4740-85d3-ecf45ccbc844",
   "metadata": {},
   "outputs": [
    {
     "name": "stdin",
     "output_type": "stream",
     "text": [
      "Enter a number: 8768\n"
     ]
    },
    {
     "name": "stdout",
     "output_type": "stream",
     "text": [
      "It is a Even number\n"
     ]
    },
    {
     "data": {
      "text/plain": [
       "'It is a Even number'"
      ]
     },
     "execution_count": 111,
     "metadata": {},
     "output_type": "execute_result"
    }
   ],
   "source": [
    "OddEven()"
   ]
  },
  {
   "cell_type": "code",
   "execution_count": 115,
   "id": "0e3b4d9d-e963-4360-9666-8b238cb495b6",
   "metadata": {},
   "outputs": [],
   "source": [
    "def Eligible():\n",
    "    gender = input(\"Enter your Gender\")\n",
    "    Age = int(input(\"Enter your Age\"))\n",
    "    print(\"Your Gender:\",gender) \n",
    "    print(\"Your Age:\",Age)\n",
    "    if Age<18:\n",
    "        print(\"NOT ELIGIBLE\")\n",
    "        msg = \"NOT ELIGIBLE\"\n",
    "    else:\n",
    "        print(\"ELIGIBLE FOR MARRAGE\")\n",
    "        msg = \"ELIGIBLE FOR MARRAGE\"\n",
    "    return msg"
   ]
  },
  {
   "cell_type": "code",
   "execution_count": 123,
   "id": "0bb5b7e2-4715-498a-883b-6a3d853f568d",
   "metadata": {},
   "outputs": [
    {
     "name": "stdin",
     "output_type": "stream",
     "text": [
      "Enter your Gender Male\n",
      "Enter your Age 33\n"
     ]
    },
    {
     "name": "stdout",
     "output_type": "stream",
     "text": [
      "Your Gender: Male\n",
      "Your Age: 33\n",
      "ELIGIBLE FOR MARRAGE\n"
     ]
    },
    {
     "data": {
      "text/plain": [
       "'ELIGIBLE FOR MARRAGE'"
      ]
     },
     "execution_count": 123,
     "metadata": {},
     "output_type": "execute_result"
    }
   ],
   "source": [
    "Eligible()"
   ]
  },
  {
   "cell_type": "code",
   "execution_count": 117,
   "id": "1fab9515-d755-4579-afb9-253dc9606e63",
   "metadata": {},
   "outputs": [],
   "source": [
    "def percentage():\n",
    "    Subject1= 98 \n",
    "    Subject2= 87 \n",
    "    Subject3= 95 \n",
    "    Subject4= 95 \n",
    "    Subject5= 93 \n",
    "    Total = Subject1 + Subject2 + Subject3 + Subject4 + Subject5\n",
    "    Percentage =  Total / 5 \n",
    "    print(\"Total is:\", Total, \"and Percentage is:\", Percentage)\n",
    "    return (Percentage)"
   ]
  },
  {
   "cell_type": "code",
   "execution_count": 119,
   "id": "47844d16-18f3-4a75-8e79-00ed65a4209a",
   "metadata": {},
   "outputs": [
    {
     "name": "stdout",
     "output_type": "stream",
     "text": [
      "Total is: 468 and Percentage is: 93.6\n"
     ]
    },
    {
     "data": {
      "text/plain": [
       "93.6"
      ]
     },
     "execution_count": 119,
     "metadata": {},
     "output_type": "execute_result"
    }
   ],
   "source": [
    "percentage()"
   ]
  },
  {
   "cell_type": "code",
   "execution_count": 125,
   "id": "1ac74a2e-75e9-46ab-8fd1-9ff309018538",
   "metadata": {},
   "outputs": [],
   "source": [
    "def triangle():\n",
    "    Height=32 \n",
    "    Breadth=34 \n",
    "    Area = (Height*Breadth)/2 \n",
    "    print (\"Area of Triangle:\", Area) \n",
    "    Height1= 2 \n",
    "    Height2=4 \n",
    "    Breadth=4 \n",
    "    Perimeter= Height1+Height2+Breadth \n",
    "    print (\"Perimeter of Triangle:\",  Perimeter )\n",
    "    return Perimeter"
   ]
  },
  {
   "cell_type": "code",
   "execution_count": 127,
   "id": "ed83ebaf-89d6-4b35-b48c-e435089306d1",
   "metadata": {},
   "outputs": [
    {
     "name": "stdout",
     "output_type": "stream",
     "text": [
      "Area of Triangle: 544.0\n",
      "Perimeter of Triangle: 10\n"
     ]
    },
    {
     "data": {
      "text/plain": [
       "10"
      ]
     },
     "execution_count": 127,
     "metadata": {},
     "output_type": "execute_result"
    }
   ],
   "source": [
    "triangle()"
   ]
  },
  {
   "cell_type": "code",
   "execution_count": null,
   "id": "6593a02e-8ed1-4f59-adda-2e2180797f13",
   "metadata": {},
   "outputs": [],
   "source": []
  }
 ],
 "metadata": {
  "kernelspec": {
   "display_name": "Python 3 (ipykernel)",
   "language": "python",
   "name": "python3"
  },
  "language_info": {
   "codemirror_mode": {
    "name": "ipython",
    "version": 3
   },
   "file_extension": ".py",
   "mimetype": "text/x-python",
   "name": "python",
   "nbconvert_exporter": "python",
   "pygments_lexer": "ipython3",
   "version": "3.12.4"
  }
 },
 "nbformat": 4,
 "nbformat_minor": 5
}
