{
 "cells": [
  {
   "cell_type": "code",
   "execution_count": 35,
   "id": "48efb102-55e5-4c6d-9726-2f6cdff62876",
   "metadata": {},
   "outputs": [
    {
     "name": "stdin",
     "output_type": "stream",
     "text": [
      " 10\n"
     ]
    },
    {
     "name": "stdout",
     "output_type": "stream",
     "text": [
      "value= 10\n",
      "Correct\n"
     ]
    }
   ],
   "source": [
    "i=int(input())\n",
    "print(\"value=\",i)\n",
    "if i == 10:\n",
    "    print(\"Correct\")"
   ]
  },
  {
   "cell_type": "code",
   "execution_count": 45,
   "id": "fcebfbeb-7f7a-42be-96fc-01f7a73d98ce",
   "metadata": {},
   "outputs": [
    {
     "name": "stdin",
     "output_type": "stream",
     "text": [
      "Enter the password: HOPE@123\n"
     ]
    },
    {
     "name": "stdout",
     "output_type": "stream",
     "text": [
      "Your password is correct\n"
     ]
    }
   ],
   "source": [
    "password=input(\"Enter the password:\")\n",
    "if password == \"HOPE@123\":\n",
    "    print (\"Your password is correct\") \n",
    "else:\n",
    "    print (\"Enter the correct Password\")"
   ]
  },
  {
   "cell_type": "code",
   "execution_count": 47,
   "id": "a08ec0bf-7cf6-4537-8c43-4b94138a464f",
   "metadata": {},
   "outputs": [
    {
     "name": "stdin",
     "output_type": "stream",
     "text": [
      " 20\n"
     ]
    },
    {
     "name": "stdout",
     "output_type": "stream",
     "text": [
      "Adult\n"
     ]
    }
   ],
   "source": [
    "age = int(input())\n",
    "if (age<18):\n",
    "    print (\"Child\")\n",
    "elif (age<35):\n",
    "    print (\"Adult\")\n",
    "elif (age<=59):\n",
    "    print (\"Citizen\")\n",
    "elif (age>59 & age<120):\n",
    "    print (\"Senior Citizen\")\n",
    "else:\n",
    "    print (\"Enter the correct age\")"
   ]
  },
  {
   "cell_type": "code",
   "execution_count": 53,
   "id": "6d4b0687-a998-43f7-af0c-f0d0ad3cf0b1",
   "metadata": {},
   "outputs": [
    {
     "name": "stdin",
     "output_type": "stream",
     "text": [
      "Enter any number: 1\n"
     ]
    },
    {
     "name": "stdout",
     "output_type": "stream",
     "text": [
      "No is positive\n"
     ]
    }
   ],
   "source": [
    "num = int(input(\"Enter any number:\"))\n",
    "if num>0:\n",
    "    print (\"No is positive\")\n",
    "else:\n",
    "    print(\"No is negative\")"
   ]
  },
  {
   "cell_type": "code",
   "execution_count": 67,
   "id": "a5dab4f0-1fae-4216-ade9-99492c9c0f75",
   "metadata": {},
   "outputs": [
    {
     "name": "stdin",
     "output_type": "stream",
     "text": [
      "Enter a number to check: 22\n"
     ]
    },
    {
     "name": "stdout",
     "output_type": "stream",
     "text": [
      "No is not divisible by 5\n"
     ]
    }
   ],
   "source": [
    "num = int(input(\"Enter a number to check:\"))\n",
    "if num%5 != 0:\n",
    "          print (\"No is not divisible by 5\")"
   ]
  },
  {
   "cell_type": "code",
   "execution_count": null,
   "id": "a15a2466-d1ea-4dc7-b95e-893ede05d9bf",
   "metadata": {},
   "outputs": [],
   "source": []
  }
 ],
 "metadata": {
  "kernelspec": {
   "display_name": "Python 3 (ipykernel)",
   "language": "python",
   "name": "python3"
  },
  "language_info": {
   "codemirror_mode": {
    "name": "ipython",
    "version": 3
   },
   "file_extension": ".py",
   "mimetype": "text/x-python",
   "name": "python",
   "nbconvert_exporter": "python",
   "pygments_lexer": "ipython3",
   "version": "3.12.4"
  }
 },
 "nbformat": 4,
 "nbformat_minor": 5
}
